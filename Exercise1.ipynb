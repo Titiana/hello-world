{
 "cells": [
  {
   "cell_type": "markdown",
   "metadata": {},
   "source": [
    "# Exercise 1"
   ]
  },
  {
   "cell_type": "markdown",
   "metadata": {},
   "source": [
    "## 数字转人民币读法"
   ]
  },
  {
   "cell_type": "code",
   "execution_count": 1,
   "metadata": {},
   "outputs": [],
   "source": [
    "import pdb\n"
   ]
  },
  {
   "cell_type": "code",
   "execution_count": 2,
   "metadata": {},
   "outputs": [],
   "source": [
    "def divide(num):\n",
    "    integer = int(num)\n",
    "    fraction = round((num -integer) * 100)\n",
    "    return (str(integer),str(fraction))"
   ]
  },
  {
   "cell_type": "code",
   "execution_count": 3,
   "metadata": {},
   "outputs": [],
   "source": [
    "han_list = ['零','壹','贰','叁','肆','伍','陆','柒','捌','玖']"
   ]
  },
  {
   "cell_type": "code",
   "execution_count": 4,
   "metadata": {},
   "outputs": [],
   "source": [
    "unit_list = ['十','百','千']"
   ]
  },
  {
   "cell_type": "code",
   "execution_count": 5,
   "metadata": {},
   "outputs": [],
   "source": [
    "def four_to_hanstr(num_str):\n",
    "    result = ''\n",
    "    num_len = len(num_str)\n",
    "    for i in range(num_len):\n",
    "        num = int(num_str[i])\n",
    "        if i != num_len -1 and num != 0:\n",
    "            result += han_list[num] + unit_list[num_len - 2 - i]\n",
    "        else:\n",
    "            result += han_list[num]\n",
    "    return result        \n",
    "    \n",
    "                \n",
    "        "
   ]
  },
  {
   "cell_type": "code",
   "execution_count": 6,
   "metadata": {},
   "outputs": [],
   "source": [
    "def integer_to_str(num_str):\n",
    "    str_len = len(num_str)\n",
    "    if str_len > 12:\n",
    "        print(\"数字太大，翻译不了\")\n",
    "        return\n",
    "    elif str_len > 8:\n",
    "        return four_to_hanstr(num_str[:-8])+ '亿' + four_to_hanstr(num_str[-8:-4]) + '万' + four_to_hanstr(num_str[-4:])\n",
    "    elif str_len >4:\n",
    "        return four_to_hanstr(num_str[:-4]) + '万' + four_to_hanstr(num_str[-4:])\n",
    "    else:\n",
    "        return four_to_hanstr(num_str)"
   ]
  },
  {
   "cell_type": "code",
   "execution_count": 7,
   "metadata": {},
   "outputs": [],
   "source": [
    "def fraction_to_str(num_str):\n",
    "    str_len = len(num_str)\n",
    "    if str_len == 2:\n",
    "        a = int(num_str[0])\n",
    "        b = int(num_str[1])\n",
    "        if b ==0:\n",
    "            return '元' + han_list[a] + '角'\n",
    "        else:\n",
    "            return '元' + han_list[a] + '角' + han_list[b] + '分'\n",
    "\n",
    "    elif str_len == 1:\n",
    "        a = int(num_str)\n",
    "        if a==0 :\n",
    "            return ''\n",
    "        else:\n",
    "            return '元' + han_list[a] + '分'"
   ]
  },
  {
   "cell_type": "code",
   "execution_count": 8,
   "metadata": {},
   "outputs": [
    {
     "name": "stdout",
     "output_type": "stream",
     "text": [
      "请输入一个浮点数： \n",
      "1\n",
      "壹\n",
      "请输入一个浮点数： \n",
      "\n",
      "请认真阅读要求！！！\n"
     ]
    }
   ],
   "source": [
    "#pdb.set_trace()\n",
    "while True:\n",
    "    num = input(\"请输入一个浮点数： \\n\")\n",
    "    if not num:\n",
    "        print(\"请认真阅读要求！！！\")\n",
    "        break\n",
    "    integer,fraction = divide(float(num))\n",
    "    print('{0}{1}'.format(integer_to_str(integer),fraction_to_str(fraction)))"
   ]
  }
 ],
 "metadata": {
  "kernelspec": {
   "display_name": "Python 3",
   "language": "python",
   "name": "python3"
  },
  "language_info": {
   "codemirror_mode": {
    "name": "ipython",
    "version": 3
   },
   "file_extension": ".py",
   "mimetype": "text/x-python",
   "name": "python",
   "nbconvert_exporter": "python",
   "pygments_lexer": "ipython3",
   "version": "3.6.4"
  }
 },
 "nbformat": 4,
 "nbformat_minor": 2
}
